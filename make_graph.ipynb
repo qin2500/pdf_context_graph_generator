{
 "cells": [
  {
   "cell_type": "code",
   "execution_count": 15,
   "metadata": {},
   "outputs": [],
   "source": [
    "#imports\n",
    "import pandas as pd\n",
    "import numpy as np\n",
    "from PyPDF2 import PdfReader\n",
    "from langchain.text_splitter import RecursiveCharacterTextSplitter\n",
    "import uuid"
   ]
  },
  {
   "cell_type": "code",
   "execution_count": null,
   "metadata": {},
   "outputs": [],
   "source": [
    "#Parse Input\n",
    "raw_text = \"\"\n",
    "pdf_reader = PdfReader(\"Input/input.pdf\")\n",
    "for page in pdf_reader.pages:\n",
    "    raw_text += page.extract_text()\n",
    "\n",
    "#Split data\n",
    "splitter = RecursiveCharacterTextSplitter(\n",
    "    chunk_size=2000,\n",
    "    chunk_overlap=200,\n",
    "    length_function=len,\n",
    "    is_separator_regex=False,\n",
    ")\n",
    "chunks = splitter.split_text(raw_text)\n",
    "print(len(chunks))\n"
   ]
  },
  {
   "cell_type": "code",
   "execution_count": null,
   "metadata": {},
   "outputs": [],
   "source": [
    "#Build input Dataframe\n",
    "rows = []\n",
    "for chunk in chunks:\n",
    "    row = {\n",
    "        \"text\": chunk,\n",
    "        \"chunk_id\": uuid.uuid4().hex,\n",
    "    }\n",
    "    rows = rows + [row]\n",
    "df = pd.DataFrame(rows)\n",
    "print(df)"
   ]
  },
  {
   "cell_type": "code",
   "execution_count": null,
   "metadata": {},
   "outputs": [],
   "source": [
    "#RUNNING THIS COSTS MONEY!!!!!!!!!!!!!!!\n",
    "#----------------------------------------------------------\n",
    "#Get the concepts\n",
    "from graph_helper import get_concepts\n",
    "from graph_helper import formatDF\n",
    "\n",
    "generate_dataframes = False\n",
    "if(generate_dataframes):\n",
    "    concepts = df.apply(lambda row: get_concepts(row), axis=1)\n",
    "    concepts = concepts.dropna()\n",
    "    concepts = concepts.reset_index(drop=True)\n",
    "    concept_list = np.concatenate(concepts).ravel().tolist()\n",
    "    dfg1 = formatDF(concept_list)\n",
    "\n",
    "    dfg1.to_csv(\"Output/graph.csv\", sep=\"|\", index=False)\n",
    "    df.to_csv(\"Output/chunks.csv\", sep=\"|\", index=False)\n",
    "else:\n",
    "    dfg1 = pd.read_csv(\"output/graph.csv\", sep=\"|\")\n",
    "dfg1.replace(\"\", np.nan, inplace=True)\n",
    "dfg1.dropna(subset=[\"node_1\", \"node_2\", 'edge'], inplace=True)\n",
    "dfg1['count'] = 4 \n",
    " \n",
    "print(dfg1.shape)\n",
    "print(dfg1)"
   ]
  },
  {
   "cell_type": "code",
   "execution_count": null,
   "metadata": {},
   "outputs": [],
   "source": [
    "df.apply(lambda x: print(x))"
   ]
  }
 ],
 "metadata": {
  "kernelspec": {
   "display_name": "venv",
   "language": "python",
   "name": "python3"
  },
  "language_info": {
   "codemirror_mode": {
    "name": "ipython",
    "version": 3
   },
   "file_extension": ".py",
   "mimetype": "text/x-python",
   "name": "python",
   "nbconvert_exporter": "python",
   "pygments_lexer": "ipython3",
   "version": "3.9.7"
  }
 },
 "nbformat": 4,
 "nbformat_minor": 2
}
