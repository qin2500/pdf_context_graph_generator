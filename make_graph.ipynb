{
 "cells": [
  {
   "cell_type": "code",
   "execution_count": 1,
   "metadata": {},
   "outputs": [],
   "source": [
    "#imports\n",
    "import pandas as pd\n",
    "import numpy as np\n",
    "from PyPDF2 import PdfReader\n",
    "from langchain.text_splitter import RecursiveCharacterTextSplitter\n",
    "import uuid"
   ]
  },
  {
   "cell_type": "code",
   "execution_count": 2,
   "metadata": {},
   "outputs": [
    {
     "name": "stdout",
     "output_type": "stream",
     "text": [
      "20\n"
     ]
    }
   ],
   "source": [
    "#Parse Input\n",
    "raw_text = \"\"\n",
    "pdf_reader = PdfReader(\"Input/input.pdf\")\n",
    "for page in pdf_reader.pages:\n",
    "    raw_text += page.extract_text()\n",
    "\n",
    "#Split data\n",
    "splitter = RecursiveCharacterTextSplitter(\n",
    "    chunk_size=2000,\n",
    "    chunk_overlap=200,\n",
    "    length_function=len,\n",
    "    is_separator_regex=False,\n",
    ")\n",
    "chunks = splitter.split_text(raw_text)\n",
    "print(len(chunks))\n"
   ]
  },
  {
   "cell_type": "code",
   "execution_count": 3,
   "metadata": {},
   "outputs": [
    {
     "name": "stdout",
     "output_type": "stream",
     "text": [
      "                                                 text  \\\n",
      "0   Review began\\n 05/30/2023 \\nReview ended\\n 06/...   \n",
      "1   and the burgeoning private health sector syste...   \n",
      "2   materials, extracting the data, and analyzing ...   \n",
      "3   who does not have a formal medical qualificati...   \n",
      "4   [12]\\n. ANMs are government employees and rece...   \n",
      "5   payments are delayed, and the temporary nature...   \n",
      "6   more available and of a higher quality. This t...   \n",
      "7   “star” doctors with flourishing practices can ...   \n",
      "8   healthcare they can ill afford. The Government...   \n",
      "9   locations on the premise that a set percentage...   \n",
      "10  2023 Saxena et al. Cureus 15(6): e40274. DOI 1...   \n",
      "11  smoking, alcohol abuse, physical inactivity, a...   \n",
      "12  and staff shortages \\n[52]\\n. Sourcing health ...   \n",
      "13  and the recommendations made here are an effor...   \n",
      "14  . Accessed: October 12, 2021:\\nhttps://data.wo...   \n",
      "15  As good as physicians: patient perceptions of\\...   \n",
      "16  Reforming the regulation of medical education,...   \n",
      "17  making?\\n. (2020). Accessed: September 24, 202...   \n",
      "18  https://www.mospi.gov.in/\\n.\\n39\\n. \\nIndian p...   \n",
      "19  31\\n. (2017). Accessed: March 31, 2017: \\nhttp...   \n",
      "\n",
      "                            chunk_id  \n",
      "0   80fb04879b6344ada9e5fe8ce0ba785b  \n",
      "1   744306295d3a4ffaa9f1cde1beb38752  \n",
      "2   f2d354ddaef243b2953834231a8d3ace  \n",
      "3   0c51edf22af8456d9f987404a451d5c3  \n",
      "4   0ad66e00e207486489f99e6a6e218a5a  \n",
      "5   2780fdb95b2c49ce820b00cfd56fea3f  \n",
      "6   1345be09422848649694267710a4204f  \n",
      "7   df990bf000db4452978536af4a865708  \n",
      "8   4773210adab0417b9f382deeffd2a3b3  \n",
      "9   9453d692ad384fbe9913f4ae03e48532  \n",
      "10  2dfe248359b04d00a8b2cb8a5fdfe2d4  \n",
      "11  91b36dcb84144a8fa8eb6b07b46072ee  \n",
      "12  e529108c0e3b43899373f51a98f00f91  \n",
      "13  f8f57f8f7c424c238c9d83ca30bc25e6  \n",
      "14  30fd52c106bd487a89176f8dd147e577  \n",
      "15  735bb4643cff4ab09b2846ba8bbe0295  \n",
      "16  24f4faf932ad48f196b7e06cf280f136  \n",
      "17  447b9988793d463abacfe10ef30603f0  \n",
      "18  1a413bbaa6044e9997d5641cd78de506  \n",
      "19  40e7e4b5d72741bc9bcd93a571da3ec8  \n"
     ]
    }
   ],
   "source": [
    "#Build input Dataframe\n",
    "rows = []\n",
    "for chunk in chunks:\n",
    "    row = {\n",
    "        \"text\": chunk,\n",
    "        \"chunk_id\": uuid.uuid4().hex,\n",
    "    }\n",
    "    rows = rows + [row]\n",
    "df = pd.DataFrame(rows)\n",
    "print(df)"
   ]
  },
  {
   "cell_type": "code",
   "execution_count": 5,
   "metadata": {},
   "outputs": [
    {
     "name": "stdout",
     "output_type": "stream",
     "text": [
      "(310, 4)\n",
      "  node_1                                             node_2  \\\n",
      "0  india                                  health indicators   \n",
      "1  india                                         population   \n",
      "2  india                             health workers density   \n",
      "3  india                                      who threshold   \n",
      "4  india  skewed inter-state, urban-rural, and public-pr...   \n",
      "\n",
      "                                                edge  count  \n",
      "0  India's health indicators have improved in rec...      4  \n",
      "1       The country with a population of 1.3 billion      4  \n",
      "2  has an estimated active health workers density...      4  \n",
      "3  which is much lower than the WHO threshold of ...      4  \n",
      "4  The issue is compounded by the skewed inter-st...      4  \n"
     ]
    }
   ],
   "source": [
    "#RUNNING THIS COSTS MONEY!!!!!!!!!!!!!!!\n",
    "#----------------------------------------------------------\n",
    "#Get the concepts\n",
    "from graph_helper import get_concepts\n",
    "from graph_helper import formatDF\n",
    "\n",
    "generate_dataframes = False\n",
    "if(generate_dataframes):\n",
    "    concepts = df.apply(lambda row: get_concepts(row), axis=1)\n",
    "    concepts = concepts.dropna()\n",
    "    concepts = concepts.reset_index(drop=True)\n",
    "    concept_list = np.concatenate(concepts).ravel().tolist()\n",
    "    dfg1 = formatDF(concept_list)\n",
    "\n",
    "    dfg1.to_csv(\"Output/graph.csv\", sep=\"|\", index=False)\n",
    "    df.to_csv(\"Output/chunks.csv\", sep=\"|\", index=False)\n",
    "else:\n",
    "    dfg1 = pd.read_csv(\"output/graph.csv\", sep=\"|\")\n",
    "dfg1.replace(\"\", np.nan, inplace=True)\n",
    "dfg1.dropna(subset=[\"node_1\", \"node_2\", 'edge'], inplace=True)\n",
    "dfg1['count'] = 4 \n",
    " \n",
    "print(dfg1.shape)\n",
    "print(dfg1.head())"
   ]
  },
  {
   "cell_type": "code",
   "execution_count": 7,
   "metadata": {},
   "outputs": [
    {
     "ename": "KeyError",
     "evalue": "\"The following 'value_vars' are not present in the DataFrame: ['node_1', 'node_2']\"",
     "output_type": "error",
     "traceback": [
      "\u001b[1;31m---------------------------------------------------------------------------\u001b[0m",
      "\u001b[1;31mKeyError\u001b[0m                                  Traceback (most recent call last)",
      "\u001b[1;32mc:\\Users\\qin25\\Documents\\GitHub\\Knowledge_Graph_Generation\\make_graph.ipynb Cell 5\u001b[0m line \u001b[0;36m1\n\u001b[1;32m----> <a href='vscode-notebook-cell:/c%3A/Users/qin25/Documents/GitHub/Knowledge_Graph_Generation/make_graph.ipynb#W4sZmlsZQ%3D%3D?line=0'>1</a>\u001b[0m dfg_long \u001b[39m=\u001b[39m pd\u001b[39m.\u001b[39;49mmelt(\n\u001b[0;32m      <a href='vscode-notebook-cell:/c%3A/Users/qin25/Documents/GitHub/Knowledge_Graph_Generation/make_graph.ipynb#W4sZmlsZQ%3D%3D?line=1'>2</a>\u001b[0m         df, value_vars\u001b[39m=\u001b[39;49m[\u001b[39m\"\u001b[39;49m\u001b[39mnode_1\u001b[39;49m\u001b[39m\"\u001b[39;49m, \u001b[39m\"\u001b[39;49m\u001b[39mnode_2\u001b[39;49m\u001b[39m\"\u001b[39;49m], value_name\u001b[39m=\u001b[39;49m\u001b[39m\"\u001b[39;49m\u001b[39mnode\u001b[39;49m\u001b[39m\"\u001b[39;49m\n\u001b[0;32m      <a href='vscode-notebook-cell:/c%3A/Users/qin25/Documents/GitHub/Knowledge_Graph_Generation/make_graph.ipynb#W4sZmlsZQ%3D%3D?line=2'>3</a>\u001b[0m     )\n\u001b[0;32m      <a href='vscode-notebook-cell:/c%3A/Users/qin25/Documents/GitHub/Knowledge_Graph_Generation/make_graph.ipynb#W4sZmlsZQ%3D%3D?line=3'>4</a>\u001b[0m \u001b[39mprint\u001b[39m(dfg_long)\n",
      "File \u001b[1;32mc:\\Users\\qin25\\Documents\\GitHub\\Knowledge_Graph_Generation\\venv\\lib\\site-packages\\pandas\\core\\reshape\\melt.py:88\u001b[0m, in \u001b[0;36mmelt\u001b[1;34m(frame, id_vars, value_vars, var_name, value_name, col_level, ignore_index)\u001b[0m\n\u001b[0;32m     86\u001b[0m     missing \u001b[39m=\u001b[39m Index(com\u001b[39m.\u001b[39mflatten(value_vars))\u001b[39m.\u001b[39mdifference(cols)\n\u001b[0;32m     87\u001b[0m     \u001b[39mif\u001b[39;00m \u001b[39mnot\u001b[39;00m missing\u001b[39m.\u001b[39mempty:\n\u001b[1;32m---> 88\u001b[0m         \u001b[39mraise\u001b[39;00m \u001b[39mKeyError\u001b[39;00m(\n\u001b[0;32m     89\u001b[0m             \u001b[39m\"\u001b[39m\u001b[39mThe following \u001b[39m\u001b[39m'\u001b[39m\u001b[39mvalue_vars\u001b[39m\u001b[39m'\u001b[39m\u001b[39m are not present in \u001b[39m\u001b[39m\"\u001b[39m\n\u001b[0;32m     90\u001b[0m             \u001b[39mf\u001b[39m\u001b[39m\"\u001b[39m\u001b[39mthe DataFrame: \u001b[39m\u001b[39m{\u001b[39;00m\u001b[39mlist\u001b[39m(missing)\u001b[39m}\u001b[39;00m\u001b[39m\"\u001b[39m\n\u001b[0;32m     91\u001b[0m         )\n\u001b[0;32m     92\u001b[0m \u001b[39mif\u001b[39;00m col_level \u001b[39mis\u001b[39;00m \u001b[39mnot\u001b[39;00m \u001b[39mNone\u001b[39;00m:\n\u001b[0;32m     93\u001b[0m     idx \u001b[39m=\u001b[39m frame\u001b[39m.\u001b[39mcolumns\u001b[39m.\u001b[39mget_level_values(col_level)\u001b[39m.\u001b[39mget_indexer(\n\u001b[0;32m     94\u001b[0m         id_vars \u001b[39m+\u001b[39m value_vars\n\u001b[0;32m     95\u001b[0m     )\n",
      "\u001b[1;31mKeyError\u001b[0m: \"The following 'value_vars' are not present in the DataFrame: ['node_1', 'node_2']\""
     ]
    }
   ],
   "source": [
    "dfg_long = pd.melt(\n",
    "        df, value_vars=[\"node_1\", \"node_2\"], value_name=\"node\"\n",
    "    )\n",
    "print(dfg_long)"
   ]
  }
 ],
 "metadata": {
  "kernelspec": {
   "display_name": "venv",
   "language": "python",
   "name": "python3"
  },
  "language_info": {
   "codemirror_mode": {
    "name": "ipython",
    "version": 3
   },
   "file_extension": ".py",
   "mimetype": "text/x-python",
   "name": "python",
   "nbconvert_exporter": "python",
   "pygments_lexer": "ipython3",
   "version": "3.9.7"
  }
 },
 "nbformat": 4,
 "nbformat_minor": 2
}
