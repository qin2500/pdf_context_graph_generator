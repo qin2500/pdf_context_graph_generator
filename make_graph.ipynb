{
 "cells": [
  {
   "cell_type": "code",
   "execution_count": 1,
   "metadata": {},
   "outputs": [],
   "source": [
    "#imports\n",
    "import pandas as pd\n",
    "import numpy as np\n",
    "from PyPDF2 import PdfReader\n",
    "from langchain.text_splitter import RecursiveCharacterTextSplitter\n",
    "import uuid"
   ]
  },
  {
   "cell_type": "code",
   "execution_count": 2,
   "metadata": {},
   "outputs": [
    {
     "name": "stdout",
     "output_type": "stream",
     "text": [
      "20\n"
     ]
    }
   ],
   "source": [
    "#Parse Input\n",
    "raw_text = \"\"\n",
    "pdf_reader = PdfReader(\"Input/input.pdf\")\n",
    "for page in pdf_reader.pages:\n",
    "    raw_text += page.extract_text()\n",
    "\n",
    "#Split data\n",
    "splitter = RecursiveCharacterTextSplitter(\n",
    "    chunk_size=1500,\n",
    "    chunk_overlap=150,\n",
    "    length_function=len,\n",
    "    is_separator_regex=False,\n",
    ")\n",
    "chunks = splitter.split_text(raw_text)\n",
    "print(len(chunks))\n"
   ]
  },
  {
   "cell_type": "code",
   "execution_count": 3,
   "metadata": {},
   "outputs": [
    {
     "name": "stdout",
     "output_type": "stream",
     "text": [
      "                                                 text  \\\n",
      "0   Review began\\n 05/30/2023 \\nReview ended\\n 06/...   \n",
      "1   and the burgeoning private health sector syste...   \n",
      "2   materials, extracting the data, and analyzing ...   \n",
      "3   1\\n2\\n \\nOpen Access Review\\nArticle\\n \\nDOI:\\...   \n",
      "4   the evaluation of ASHAs from a health systems ...   \n",
      "5   violence by communities against doctors \\n[18,...   \n",
      "6   care \\n[22]\\n. During the eighties and the nin...   \n",
      "7   [33]\\n.\\nNational Medical Council\\nIndia revam...   \n",
      "8   Improve Efficiency\\n \\nThe public health syste...   \n",
      "9   would receive care at little-to-no-cost. This ...   \n",
      "10  telemedicine for consultations with healthcare...   \n",
      "11  and monitoring of care for the elderly. It can...   \n",
      "12  [53]\\n.\\nIncreasing violence against healthcar...   \n",
      "13  is able to provide affordable, accessible, qua...   \n",
      "14  era: time for a revolution\\n. Lancet Glob Heal...   \n",
      "15  Which doctor for primary health care?\\nQuality...   \n",
      "16  Pradhan Mantri Jan Arogaya Yojana (PMJAY), in ...   \n",
      "17  The impacts of corporatisation of healthcare o...   \n",
      "18  . Int J Sci Technol\\nRes. 2020, 9:4447-53.\\n43...   \n",
      "19  10.4103/ijo.IJO_1681_18\\n52\\n. \\nEvans C, Razi...   \n",
      "\n",
      "                            chunk_id  \n",
      "0   5c0b76d3ceff45b19ec643cffdb63e75  \n",
      "1   bb6e7ff9ab0446beab5726164f6aab83  \n",
      "2   e2632355558c4a16a43a7bbedffa70b0  \n",
      "3   7765730739ff4632a6afb6c9d4730c23  \n",
      "4   99b0aa5ecb4143399d8b683c5f9c4ecf  \n",
      "5   b1ab6ff562234a5598e908086fe31b92  \n",
      "6   f4d9c8baa11c422b91cfa6cb5dc2d98f  \n",
      "7   9902f0f9e1c44d75965ebd1aed6cb7b9  \n",
      "8   bb273784f9b74c6098a7911da7daf6e1  \n",
      "9   0ccf8b4a1eeb41219c9e9fbe8c18c5b5  \n",
      "10  490b15cf2cf24eae92d509e433a8d5c7  \n",
      "11  490dd3197ccd425d9d040b2f56057f32  \n",
      "12  f2a256e903574e9da32c6ac81c9a9db7  \n",
      "13  f345a2fcbe3b4095b093642a97fbab5c  \n",
      "14  0609fbe71fe2443785a90611bb33590b  \n",
      "15  0c182d813ea24ada937a6d1ca8300f65  \n",
      "16  7f4debb5ce914c43a0b0a12961260ca3  \n",
      "17  ae4ede57818b469fae168816ad304775  \n",
      "18  417825e0ae4447fe9543bd6246721a0f  \n",
      "19  fba6bdc6d2f54cde9bed7c4965723977  \n"
     ]
    }
   ],
   "source": [
    "#Build input Dataframe\n",
    "rows = []\n",
    "for chunk in chunks:\n",
    "    row = {\n",
    "        \"text\": chunk,\n",
    "        \"chunk_id\": uuid.uuid4().hex,\n",
    "    }\n",
    "    rows = rows + [row]\n",
    "df = pd.DataFrame(rows)\n",
    "print(df)"
   ]
  },
  {
   "cell_type": "code",
   "execution_count": 4,
   "metadata": {},
   "outputs": [],
   "source": [
    "concepts = []"
   ]
  },
  {
   "cell_type": "code",
   "execution_count": 6,
   "metadata": {},
   "outputs": [
    {
     "name": "stdout",
     "output_type": "stream",
     "text": [
      "text        [{'node_1': 'India', 'node_2': 'health indicat...\n",
      "chunk_id    [{'node_1': 'network graph maker', 'node_2': '...\n",
      "dtype: object\n",
      "[{'node_1': 'India', 'node_2': 'health indicators', 'edge': \"India's health indicators have improved in recent times but continue to lag behind those of its peer nations.\"}, {'node_1': 'India', 'node_2': 'population', 'edge': 'The country with a population of 1.3 billion'}, {'node_1': 'India', 'node_2': 'health workers density', 'edge': 'has an estimated active health workers density of doctors and nurses/midwives of 5.0 and 6.0 respectively, for 10,000 persons'}, {'node_1': 'India', 'node_2': 'WHO threshold', 'edge': 'which is much lower than the WHO threshold of 44.5 doctors, nurses, and midwives per 10,000 population'}, {'node_1': 'India', 'node_2': 'skewed inter-state, urban-rural, and public-private sector divide', 'edge': 'The issue is compounded by the skewed inter-state, urban-rural, and public-private sector divide.'}, {'node_1': 'India', 'node_2': 'skilled health workforce', 'edge': 'Calls to urgently augment the skilled health workforce reinforce the central role human resources have in healthcare.'}, {'node_1': 'India', 'node_2': 'universal health coverage', 'edge': 'The paucity of skilled personnel must be addressed if India is to accelerate its progress toward achieving universal health coverage and its sustainable development goals (SDGs).'}, {'node_1': 'India', 'node_2': 'federal health budget', 'edge': 'The recent increase in the federal health budget offers an unprecedented opportunity to do this.'}, {'node_1': 'India', 'node_2': 'health system', 'edge': \"This article utilizes the ready materials, extract and analyze data, distill findings (READ) approach to adding to the authors' experiential learning to analyze the health system in India.\"}, {'node_1': 'public health sciences', 'node_2': 'Coastal Carolina University', 'edge': 'Public Health Sciences, Coastal Carolina University, Conway, USA'}, {'node_1': 'public health sciences', 'node_2': 'Penn State College of Medicine', 'edge': 'Public Health Sciences, Penn State College of Medicine, Hershey, USA'}, {'node_1': 'Sangeeta G. Saxena', 'node_2': 'sangeeta.cureus@gmail.com', 'edge': 'Corresponding author: Sangeeta G. Saxena, sangeeta.cureus@gmail.com'}, {'node_1': 'India', 'node_2': 'medical tourism industry', 'edge': \"the burgeoning private health sector systems, with the latter's booming medical tourism industry\"}, {'node_1': 'network graph maker', 'node_2': 'terms and their relations', 'edge': 'The network graph maker extracts terms and their relations from a given context.'}, {'node_1': 'network graph maker', 'node_2': 'context chunk', 'edge': 'The network graph maker extracts terms and their relations from a given context chunk.'}, {'node_1': 'terms and their relations', 'node_2': 'context chunk', 'edge': 'The terms and their relations are extracted from a given context chunk.'}, {'node_1': 'terms', 'node_2': 'key concepts', 'edge': 'The terms represent the key concepts as per the context.'}, {'node_1': 'key concepts', 'node_2': 'object', 'edge': 'The key concepts may include objects mentioned in the context.'}, {'node_1': 'key concepts', 'node_2': 'entity', 'edge': 'The key concepts may include entities mentioned in the context.'}, {'node_1': 'key concepts', 'node_2': 'location', 'edge': 'The key concepts may include locations mentioned in the context.'}, {'node_1': 'key concepts', 'node_2': 'organization', 'edge': 'The key concepts may include organizations mentioned in the context.'}, {'node_1': 'key concepts', 'node_2': 'person', 'edge': 'The key concepts may include persons mentioned in the context.'}, {'node_1': 'key concepts', 'node_2': 'condition', 'edge': 'The key concepts may include conditions mentioned in the context.'}, {'node_1': 'key concepts', 'node_2': 'acronym', 'edge': 'The key concepts may include acronyms mentioned in the context.'}, {'node_1': 'key concepts', 'node_2': 'documents', 'edge': 'The key concepts may include documents mentioned in the context.'}, {'node_1': 'key concepts', 'node_2': 'service', 'edge': 'The key concepts may include services mentioned in the context.'}, {'node_1': 'key concepts', 'node_2': 'concept', 'edge': 'The key concepts may include concepts mentioned in the context.'}, {'node_1': 'terms', 'node_2': 'atomistic', 'edge': 'The terms should be as atomistic as possible.'}, {'node_1': 'terms', 'node_2': 'sentence', 'edge': 'The terms mentioned in the same sentence are typically related to each other.'}, {'node_1': 'terms', 'node_2': 'paragraph', 'edge': 'The terms mentioned in the same paragraph are typically related to each other.'}, {'node_1': 'terms', 'node_2': 'related pair', 'edge': 'The terms can be related to many other terms.'}, {'node_1': 'related pair', 'node_2': 'relation', 'edge': 'There is a relation between each related pair of terms.'}]\n"
     ]
    },
    {
     "ename": "TypeError",
     "evalue": "formatDF() takes 1 positional argument but 2 were given",
     "output_type": "error",
     "traceback": [
      "\u001b[1;31m---------------------------------------------------------------------------\u001b[0m",
      "\u001b[1;31mTypeError\u001b[0m                                 Traceback (most recent call last)",
      "\u001b[1;32mc:\\Users\\qin25\\Documents\\GitHub\\Knowledge_Graph_Generation\\make_graph.ipynb Cell 5\u001b[0m line \u001b[0;36m1\n\u001b[0;32m     <a href='vscode-notebook-cell:/c%3A/Users/qin25/Documents/GitHub/Knowledge_Graph_Generation/make_graph.ipynb#W4sZmlsZQ%3D%3D?line=12'>13</a>\u001b[0m concept_list \u001b[39m=\u001b[39m np\u001b[39m.\u001b[39mconcatenate(concepts)\u001b[39m.\u001b[39mravel()\u001b[39m.\u001b[39mtolist()\n\u001b[0;32m     <a href='vscode-notebook-cell:/c%3A/Users/qin25/Documents/GitHub/Knowledge_Graph_Generation/make_graph.ipynb#W4sZmlsZQ%3D%3D?line=13'>14</a>\u001b[0m \u001b[39mprint\u001b[39m(concept_list)\n\u001b[1;32m---> <a href='vscode-notebook-cell:/c%3A/Users/qin25/Documents/GitHub/Knowledge_Graph_Generation/make_graph.ipynb#W4sZmlsZQ%3D%3D?line=14'>15</a>\u001b[0m dfg1 \u001b[39m=\u001b[39m helper\u001b[39m.\u001b[39;49mformatDF(concept_list)\n\u001b[0;32m     <a href='vscode-notebook-cell:/c%3A/Users/qin25/Documents/GitHub/Knowledge_Graph_Generation/make_graph.ipynb#W4sZmlsZQ%3D%3D?line=16'>17</a>\u001b[0m dfg1\u001b[39m.\u001b[39mto_csv(\u001b[39m\"\u001b[39m\u001b[39mOutput/graph.csv\u001b[39m\u001b[39m\"\u001b[39m, sep\u001b[39m=\u001b[39m\u001b[39m\"\u001b[39m\u001b[39m|\u001b[39m\u001b[39m\"\u001b[39m, index\u001b[39m=\u001b[39m\u001b[39mFalse\u001b[39;00m)\n\u001b[0;32m     <a href='vscode-notebook-cell:/c%3A/Users/qin25/Documents/GitHub/Knowledge_Graph_Generation/make_graph.ipynb#W4sZmlsZQ%3D%3D?line=17'>18</a>\u001b[0m df\u001b[39m.\u001b[39mto_csv(\u001b[39m\"\u001b[39m\u001b[39mOutput/chunks.csv\u001b[39m\u001b[39m\"\u001b[39m, sep\u001b[39m=\u001b[39m\u001b[39m\"\u001b[39m\u001b[39m|\u001b[39m\u001b[39m\"\u001b[39m, index\u001b[39m=\u001b[39m\u001b[39mFalse\u001b[39;00m)\n",
      "\u001b[1;31mTypeError\u001b[0m: formatDF() takes 1 positional argument but 2 were given"
     ]
    }
   ],
   "source": [
    "#RUNNING THIS COSTS MONEY!!!!!!!!!!!!!!!\n",
    "#----------------------------------------------------------\n",
    "#Get the concepts\n",
    "from graph_helper import graph_helper\n",
    "\n",
    "generate_dataframes = True\n",
    "helper = graph_helper()\n",
    "if(generate_dataframes):\n",
    "    concepts = df.apply(lambda row: helper.get_concepts(row[0]))\n",
    "    print(concepts)\n",
    "    concepts = concepts.dropna()\n",
    "    concepts = concepts.reset_index(drop=True)\n",
    "    concept_list = np.concatenate(concepts).ravel().tolist()\n",
    "    print(concept_list)\n",
    "    dfg1 = helper.formatDF(concept_list)\n",
    "\n",
    "    dfg1.to_csv(\"Output/graph.csv\", sep=\"|\", index=False)\n",
    "    df.to_csv(\"Output/chunks.csv\", sep=\"|\", index=False)\n",
    "dfg1.replace(\"\", np.nan, inplace=True)\n",
    "dfg1.dropna(subset=[\"node_1\", \"node_2\", 'edge'], inplace=True)\n",
    "dfg1['count'] = 4 \n",
    "## Increasing the weight of the relation to 4. \n",
    "## We will assign the weight of 1 when later the contextual proximity will be calculated.  \n",
    "print(dfg1.shape)\n",
    "print(dfg1)"
   ]
  }
 ],
 "metadata": {
  "kernelspec": {
   "display_name": "venv",
   "language": "python",
   "name": "python3"
  },
  "language_info": {
   "codemirror_mode": {
    "name": "ipython",
    "version": 3
   },
   "file_extension": ".py",
   "mimetype": "text/x-python",
   "name": "python",
   "nbconvert_exporter": "python",
   "pygments_lexer": "ipython3",
   "version": "3.9.7"
  }
 },
 "nbformat": 4,
 "nbformat_minor": 2
}
